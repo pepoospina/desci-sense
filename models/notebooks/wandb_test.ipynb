{
 "cells": [
  {
   "cell_type": "code",
   "execution_count": 1,
   "metadata": {},
   "outputs": [],
   "source": [
    "import sys\n",
    "sys.path.append(\"../\")\n",
    "\n",
    "import os\n",
    "from pathlib import Path\n",
    "import wandb\n",
    "import shortuuid\n",
    "\n",
    "from confection import Config\n",
    "from desci_sense.configs import init_config"
   ]
  },
  {
   "cell_type": "code",
   "execution_count": 2,
   "metadata": {},
   "outputs": [],
   "source": [
    "def log_pred_wandb(wandb_run, result):\n",
    "\n",
    "    # get a unique ID for this prediction\n",
    "    pred_uid = shortuuid.ShortUUID().random(length=8)\n",
    "\n",
    "    artifact = wandb.Artifact(f\"pred_{wandb_run.id}_{pred_uid}\", type=\"prediction\")\n",
    "\n",
    "    columns = [\"User\", \"URL\", \"Text\", \"Reasoning Steps\", \"Predicted Label\", \"True Label\", \"Tweet ID\"]\n",
    "\n",
    "    # extract relevant columns from prediction\n",
    "    pred_row = [\n",
    "        result['tweet']['user_name'],\n",
    "        result['tweet']['tweetURL'],\n",
    "        result['tweet']['text'],\n",
    "        result['answer']['reasoning'],\n",
    "        result['answer']['final_answer'],\n",
    "        \"\", # no gold label meanwhile\n",
    "        result['tweet']['tweetID']\n",
    "    ]\n",
    "    data = [pred_row]\n",
    "\n",
    "    # add data to table\n",
    "    table =  wandb.Table(data=data, columns=columns)\n",
    "    artifact.add(table, \"predictions\")\n",
    "\n",
    "    # log immediately since we don't know when user will close the session\n",
    "    wandb.log_artifact(artifact)\n",
    "    \n",
    "\n",
    "    \n",
    "\n",
    "    \n"
   ]
  },
  {
   "cell_type": "code",
   "execution_count": 3,
   "metadata": {},
   "outputs": [],
   "source": [
    "config = init_config()"
   ]
  },
  {
   "cell_type": "code",
   "execution_count": 4,
   "metadata": {},
   "outputs": [
    {
     "name": "stdout",
     "output_type": "stream",
     "text": [
      "[model]\n",
      "model_name = \"mistralai/mistral-7b-instruct\"\n",
      "temperature = 0.6\n",
      "\n",
      "[prompt]\n",
      "template_path = \"desci_sense/prompting/templates/p2.txt\"\n",
      "\n",
      "[wandb]\n",
      "wand_entity = \"common-sense-makers\"\n",
      "project = \"st-demo\"\n",
      "wandb_db_name = \"test-DB\"\n"
     ]
    }
   ],
   "source": [
    "print(config.to_str())"
   ]
  },
  {
   "cell_type": "code",
   "execution_count": 5,
   "metadata": {},
   "outputs": [],
   "source": [
    "api = wandb.Api()\n",
    "\n",
    "TYPE = \"prediction\"\n",
    "PROJECT = \"st_demo-v0.2\"\n",
    "\n",
    "artifacts = []\n",
    "collections = [\n",
    "    coll for coll in api.artifact_type(type_name=TYPE, project=PROJECT).collections()\n",
    "]\n",
    "\n",
    "\n",
    "for coll in collections:\n",
    "    for artifact in coll.versions():\n",
    "        artifacts += [artifact]\n"
   ]
  },
  {
   "cell_type": "code",
   "execution_count": 6,
   "metadata": {},
   "outputs": [
    {
     "data": {
      "text/plain": [
       "16"
      ]
     },
     "execution_count": 6,
     "metadata": {},
     "output_type": "execute_result"
    }
   ],
   "source": [
    "len(artifacts)"
   ]
  },
  {
   "cell_type": "code",
   "execution_count": null,
   "metadata": {},
   "outputs": [],
   "source": []
  },
  {
   "cell_type": "code",
   "execution_count": 7,
   "metadata": {},
   "outputs": [],
   "source": [
    "artifact = artifacts[0]"
   ]
  },
  {
   "cell_type": "code",
   "execution_count": 8,
   "metadata": {},
   "outputs": [
    {
     "data": {
      "text/plain": [
       "<Artifact QXJ0aWZhY3Q6NjMxOTAyMTA0>"
      ]
     },
     "execution_count": 8,
     "metadata": {},
     "output_type": "execute_result"
    }
   ],
   "source": [
    "artifact"
   ]
  },
  {
   "cell_type": "code",
   "execution_count": 9,
   "metadata": {},
   "outputs": [
    {
     "name": "stderr",
     "output_type": "stream",
     "text": [
      "\u001b[34m\u001b[1mwandb\u001b[0m:   1 of 1 files downloaded.  \n"
     ]
    }
   ],
   "source": [
    "dd = artifact.download()"
   ]
  },
  {
   "cell_type": "code",
   "execution_count": 10,
   "metadata": {},
   "outputs": [
    {
     "data": {
      "text/plain": [
       "'./artifacts/pred_rhjdpsuk_GmRyKBUV:v0'"
      ]
     },
     "execution_count": 10,
     "metadata": {},
     "output_type": "execute_result"
    }
   ],
   "source": [
    "dd"
   ]
  },
  {
   "cell_type": "code",
   "execution_count": 11,
   "metadata": {},
   "outputs": [],
   "source": [
    "table_path = f\"{dd}/predictions.table.json\""
   ]
  },
  {
   "cell_type": "code",
   "execution_count": null,
   "metadata": {},
   "outputs": [],
   "source": []
  },
  {
   "cell_type": "code",
   "execution_count": 12,
   "metadata": {},
   "outputs": [],
   "source": [
    "import pandas as pd"
   ]
  },
  {
   "cell_type": "code",
   "execution_count": 13,
   "metadata": {},
   "outputs": [],
   "source": [
    "import json\n",
    "raw_data = json.load(Path(table_path).open())"
   ]
  },
  {
   "cell_type": "code",
   "execution_count": 14,
   "metadata": {},
   "outputs": [
    {
     "data": {
      "text/plain": [
       "[['Nathan Schneider',\n",
       "  'https://twitter.com/ntnsndr/status/1721589953509953620',\n",
       "  \"In case you're not on the fediverse, here's a thread I just did on the ongoing WeWork collapse and why (surprise surprise) it should have been a co-op: https://social.coop/@ntnsndr/111364589153380497 #exittocommunity\",\n",
       "  \"[Reasoning Steps]\\n\\n1. The post is about the ongoing collapse of WeWork.\\n2. The author is discussing the reasons for the collapse.\\n3. The author suggests that the collapse should have been a cooperative.\\n4. The author is advocating for a different model of business.\\n5. The author is sharing their thoughts and opinions on a current event.\\n\\n[Candidate Tags]\\n\\n1. <event>: This tag is suitable because the post is about a current event, specifically the collapse of WeWork.\\n2. <review>: This tag is not suitable because the post is not a review of a reference.\\n3. <announce>: This tag is not suitable because the post is not an announcement of new research.\\n4. <reading>: This tag is not suitable because the post is not about the author's reading status.\\n5. <other>: This tag is not suitable because it does not provide any information about the content of the post.\",\n",
       "  '<event>',\n",
       "  '<other>',\n",
       "  'rtk',\n",
       "  '1721589953509953620']]"
      ]
     },
     "execution_count": 14,
     "metadata": {},
     "output_type": "execute_result"
    }
   ],
   "source": [
    "raw_data[\"data\"]"
   ]
  },
  {
   "cell_type": "code",
   "execution_count": 16,
   "metadata": {},
   "outputs": [
    {
     "data": {
      "text/plain": [
       "['User',\n",
       " 'URL',\n",
       " 'Text',\n",
       " 'Reasoning Steps',\n",
       " 'Predicted Label',\n",
       " 'True Label',\n",
       " 'Name of Label Provider',\n",
       " 'Tweet ID']"
      ]
     },
     "execution_count": 16,
     "metadata": {},
     "output_type": "execute_result"
    }
   ],
   "source": [
    "raw_data[\"columns\"]"
   ]
  },
  {
   "cell_type": "code",
   "execution_count": 19,
   "metadata": {},
   "outputs": [],
   "source": [
    "from tqdm import tqdm"
   ]
  },
  {
   "cell_type": "code",
   "execution_count": 37,
   "metadata": {},
   "outputs": [
    {
     "name": "stderr",
     "output_type": "stream",
     "text": [
      "  0%|          | 0/16 [00:00<?, ?it/s]\u001b[34m\u001b[1mwandb\u001b[0m:   1 of 1 files downloaded.  \n",
      "  6%|▋         | 1/16 [00:00<00:03,  4.74it/s]\u001b[34m\u001b[1mwandb\u001b[0m:   1 of 1 files downloaded.  \n",
      " 12%|█▎        | 2/16 [00:00<00:02,  5.33it/s]\u001b[34m\u001b[1mwandb\u001b[0m:   1 of 1 files downloaded.  \n",
      " 19%|█▉        | 3/16 [00:00<00:02,  6.12it/s]\u001b[34m\u001b[1mwandb\u001b[0m:   1 of 1 files downloaded.  \n",
      " 25%|██▌       | 4/16 [00:00<00:01,  6.46it/s]\u001b[34m\u001b[1mwandb\u001b[0m:   1 of 1 files downloaded.  \n",
      " 31%|███▏      | 5/16 [00:00<00:01,  6.48it/s]\u001b[34m\u001b[1mwandb\u001b[0m:   1 of 1 files downloaded.  \n",
      " 38%|███▊      | 6/16 [00:00<00:01,  6.53it/s]\u001b[34m\u001b[1mwandb\u001b[0m:   1 of 1 files downloaded.  \n",
      " 44%|████▍     | 7/16 [00:01<00:01,  5.19it/s]\u001b[34m\u001b[1mwandb\u001b[0m:   1 of 1 files downloaded.  \n",
      " 50%|█████     | 8/16 [00:01<00:01,  5.10it/s]\u001b[34m\u001b[1mwandb\u001b[0m:   1 of 1 files downloaded.  \n",
      " 56%|█████▋    | 9/16 [00:01<00:01,  5.34it/s]\u001b[34m\u001b[1mwandb\u001b[0m:   1 of 1 files downloaded.  \n",
      " 62%|██████▎   | 10/16 [00:01<00:01,  5.39it/s]\u001b[34m\u001b[1mwandb\u001b[0m:   1 of 1 files downloaded.  \n",
      " 69%|██████▉   | 11/16 [00:01<00:00,  5.39it/s]\u001b[34m\u001b[1mwandb\u001b[0m:   1 of 1 files downloaded.  \n",
      " 75%|███████▌  | 12/16 [00:02<00:00,  5.33it/s]\u001b[34m\u001b[1mwandb\u001b[0m:   1 of 1 files downloaded.  \n",
      " 81%|████████▏ | 13/16 [00:02<00:00,  5.59it/s]\u001b[34m\u001b[1mwandb\u001b[0m:   1 of 1 files downloaded.  \n",
      " 88%|████████▊ | 14/16 [00:02<00:00,  5.57it/s]\u001b[34m\u001b[1mwandb\u001b[0m:   1 of 1 files downloaded.  \n",
      " 94%|█████████▍| 15/16 [00:02<00:00,  6.18it/s]\u001b[34m\u001b[1mwandb\u001b[0m:   1 of 1 files downloaded.  \n",
      "100%|██████████| 16/16 [00:02<00:00,  5.74it/s]\n"
     ]
    }
   ],
   "source": [
    "rows = []\n",
    "cols = None\n",
    "for artifact in tqdm(artifacts, total=len(artifacts)):\n",
    "    a_path = artifact.download()\n",
    "    table_path = Path(f\"{a_path}/predictions.table.json\")\n",
    "    raw_data = json.load(table_path.open())\n",
    "    if not cols:\n",
    "        cols = raw_data[\"columns\"]\n",
    "    else:\n",
    "        assert cols == raw_data[\"columns\"]\n",
    "\n",
    "    # add wandb name to identify each artifact    \n",
    "    row = raw_data[\"data\"][0] + [artifact.name]\n",
    "    rows += [row]\n",
    "\n",
    "# add column for wandb name\n",
    "cols += [\"wandb name\"]\n",
    "    \n",
    "\n",
    "\n"
   ]
  },
  {
   "cell_type": "code",
   "execution_count": 39,
   "metadata": {},
   "outputs": [
    {
     "data": {
      "text/plain": [
       "['John Tasioulas',\n",
       " 'https://twitter.com/JTasioulas/status/1660582630641872898',\n",
       " 'For a long time political philosophers ignored democracy in favour of building increasingly arcane theories of justice, or they saw justice as in conflict with democracy. This book by @dsallentess seeks to put democracy at the very heart of justice. Looking forward to reading. https://t.co/O9Ii3we0b8',\n",
       " '[Reasoning Steps]\\n\\n1. The post is about a book.\\n2. The author of the book is mentioned.\\n3. The book is about democracy and justice.\\n4. The author is a political philosopher.\\n5. The post is a positive endorsement of the book.\\n\\n[Candidate Tags]\\n\\n<review> - This tag is suitable because the post is a positive endorsement of the book.\\n<announce> - This tag is not suitable because the post is not announcing a new research output.\\n<job> - This tag is not suitable because the post is not about a job.\\n<event> - This tag is not suitable because the post is not about an event.\\n<reading> - This tag is not suitable because the post is not about the author reading content.\\n<other> - This tag is not suitable because none of the other tags are suitable.',\n",
       " '<review>',\n",
       " '<reading>',\n",
       " 'rtk',\n",
       " '1660582630641872898',\n",
       " 'pred_kezzchu2_AfZd8RPg:v0']"
      ]
     },
     "execution_count": 39,
     "metadata": {},
     "output_type": "execute_result"
    }
   ],
   "source": [
    "row"
   ]
  },
  {
   "cell_type": "code",
   "execution_count": 36,
   "metadata": {},
   "outputs": [
    {
     "data": {
      "text/plain": [
       "['User',\n",
       " 'URL',\n",
       " 'Text',\n",
       " 'Reasoning Steps',\n",
       " 'Predicted Label',\n",
       " 'True Label',\n",
       " 'Name of Label Provider',\n",
       " 'Tweet ID',\n",
       " 'wandb name']"
      ]
     },
     "execution_count": 36,
     "metadata": {},
     "output_type": "execute_result"
    }
   ],
   "source": [
    "cols"
   ]
  },
  {
   "cell_type": "code",
   "execution_count": 38,
   "metadata": {},
   "outputs": [
    {
     "ename": "ValueError",
     "evalue": "Shape of passed values is (144, 1), indices imply (144, 9)",
     "output_type": "error",
     "traceback": [
      "\u001b[0;31m---------------------------------------------------------------------------\u001b[0m",
      "\u001b[0;31mValueError\u001b[0m                                Traceback (most recent call last)",
      "\u001b[1;32m/home/rkl25/dev/common_sense/desci-sense/notebooks/wandb_test.ipynb Cell 21\u001b[0m line \u001b[0;36m1\n\u001b[0;32m----> <a href='vscode-notebook-cell:/home/rkl25/dev/common_sense/desci-sense/notebooks/wandb_test.ipynb#X24sZmlsZQ%3D%3D?line=0'>1</a>\u001b[0m pd\u001b[39m.\u001b[39mDataFrame(data\u001b[39m=\u001b[39mrows, columns\u001b[39m=\u001b[39mcols)\n",
      "File \u001b[0;32m~/anaconda3/envs/twscraping/lib/python3.11/site-packages/pandas/core/frame.py:798\u001b[0m, in \u001b[0;36mDataFrame.__init__\u001b[0;34m(self, data, index, columns, dtype, copy)\u001b[0m\n\u001b[1;32m    790\u001b[0m         mgr \u001b[39m=\u001b[39m arrays_to_mgr(\n\u001b[1;32m    791\u001b[0m             arrays,\n\u001b[1;32m    792\u001b[0m             columns,\n\u001b[0;32m   (...)\u001b[0m\n\u001b[1;32m    795\u001b[0m             typ\u001b[39m=\u001b[39mmanager,\n\u001b[1;32m    796\u001b[0m         )\n\u001b[1;32m    797\u001b[0m     \u001b[39melse\u001b[39;00m:\n\u001b[0;32m--> 798\u001b[0m         mgr \u001b[39m=\u001b[39m ndarray_to_mgr(\n\u001b[1;32m    799\u001b[0m             data,\n\u001b[1;32m    800\u001b[0m             index,\n\u001b[1;32m    801\u001b[0m             columns,\n\u001b[1;32m    802\u001b[0m             dtype\u001b[39m=\u001b[39mdtype,\n\u001b[1;32m    803\u001b[0m             copy\u001b[39m=\u001b[39mcopy,\n\u001b[1;32m    804\u001b[0m             typ\u001b[39m=\u001b[39mmanager,\n\u001b[1;32m    805\u001b[0m         )\n\u001b[1;32m    806\u001b[0m \u001b[39melse\u001b[39;00m:\n\u001b[1;32m    807\u001b[0m     mgr \u001b[39m=\u001b[39m dict_to_mgr(\n\u001b[1;32m    808\u001b[0m         {},\n\u001b[1;32m    809\u001b[0m         index,\n\u001b[0;32m   (...)\u001b[0m\n\u001b[1;32m    812\u001b[0m         typ\u001b[39m=\u001b[39mmanager,\n\u001b[1;32m    813\u001b[0m     )\n",
      "File \u001b[0;32m~/anaconda3/envs/twscraping/lib/python3.11/site-packages/pandas/core/internals/construction.py:337\u001b[0m, in \u001b[0;36mndarray_to_mgr\u001b[0;34m(values, index, columns, dtype, copy, typ)\u001b[0m\n\u001b[1;32m    332\u001b[0m \u001b[39m# _prep_ndarraylike ensures that values.ndim == 2 at this point\u001b[39;00m\n\u001b[1;32m    333\u001b[0m index, columns \u001b[39m=\u001b[39m _get_axes(\n\u001b[1;32m    334\u001b[0m     values\u001b[39m.\u001b[39mshape[\u001b[39m0\u001b[39m], values\u001b[39m.\u001b[39mshape[\u001b[39m1\u001b[39m], index\u001b[39m=\u001b[39mindex, columns\u001b[39m=\u001b[39mcolumns\n\u001b[1;32m    335\u001b[0m )\n\u001b[0;32m--> 337\u001b[0m _check_values_indices_shape_match(values, index, columns)\n\u001b[1;32m    339\u001b[0m \u001b[39mif\u001b[39;00m typ \u001b[39m==\u001b[39m \u001b[39m\"\u001b[39m\u001b[39marray\u001b[39m\u001b[39m\"\u001b[39m:\n\u001b[1;32m    340\u001b[0m     \u001b[39mif\u001b[39;00m \u001b[39missubclass\u001b[39m(values\u001b[39m.\u001b[39mdtype\u001b[39m.\u001b[39mtype, \u001b[39mstr\u001b[39m):\n",
      "File \u001b[0;32m~/anaconda3/envs/twscraping/lib/python3.11/site-packages/pandas/core/internals/construction.py:408\u001b[0m, in \u001b[0;36m_check_values_indices_shape_match\u001b[0;34m(values, index, columns)\u001b[0m\n\u001b[1;32m    406\u001b[0m passed \u001b[39m=\u001b[39m values\u001b[39m.\u001b[39mshape\n\u001b[1;32m    407\u001b[0m implied \u001b[39m=\u001b[39m (\u001b[39mlen\u001b[39m(index), \u001b[39mlen\u001b[39m(columns))\n\u001b[0;32m--> 408\u001b[0m \u001b[39mraise\u001b[39;00m \u001b[39mValueError\u001b[39;00m(\u001b[39mf\u001b[39m\u001b[39m\"\u001b[39m\u001b[39mShape of passed values is \u001b[39m\u001b[39m{\u001b[39;00mpassed\u001b[39m}\u001b[39;00m\u001b[39m, indices imply \u001b[39m\u001b[39m{\u001b[39;00mimplied\u001b[39m}\u001b[39;00m\u001b[39m\"\u001b[39m)\n",
      "\u001b[0;31mValueError\u001b[0m: Shape of passed values is (144, 1), indices imply (144, 9)"
     ]
    }
   ],
   "source": [
    "pd.DataFrame(data=rows, columns=cols)"
   ]
  },
  {
   "cell_type": "code",
   "execution_count": 25,
   "metadata": {},
   "outputs": [
    {
     "data": {
      "text/plain": [
       "'pred_kezzchu2_AfZd8RPg:v0'"
      ]
     },
     "execution_count": 25,
     "metadata": {},
     "output_type": "execute_result"
    }
   ],
   "source": [
    "table_path.parent.name"
   ]
  },
  {
   "cell_type": "code",
   "execution_count": 32,
   "metadata": {},
   "outputs": [
    {
     "data": {
      "text/plain": [
       "'pred_kezzchu2_AfZd8RPg:v0'"
      ]
     },
     "execution_count": 32,
     "metadata": {},
     "output_type": "execute_result"
    }
   ],
   "source": [
    "artifact.name"
   ]
  }
 ],
 "metadata": {
  "kernelspec": {
   "display_name": "twscraping",
   "language": "python",
   "name": "python3"
  },
  "language_info": {
   "codemirror_mode": {
    "name": "ipython",
    "version": 3
   },
   "file_extension": ".py",
   "mimetype": "text/x-python",
   "name": "python",
   "nbconvert_exporter": "python",
   "pygments_lexer": "ipython3",
   "version": "3.11.5"
  }
 },
 "nbformat": 4,
 "nbformat_minor": 2
}
