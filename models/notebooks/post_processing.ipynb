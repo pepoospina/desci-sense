{
 "cells": [
  {
   "cell_type": "code",
   "execution_count": 1,
   "metadata": {},
   "outputs": [],
   "source": [
    "# load env with api keys https://stackoverflow.com/a/54028874\n",
    "%load_ext dotenv\n",
    "%dotenv ../etc/config.env\n",
    "\n"
   ]
  },
  {
   "cell_type": "code",
   "execution_count": 2,
   "metadata": {},
   "outputs": [],
   "source": [
    "from pathlib import Path\n",
    "\n",
    "import re\n",
    "import sys\n",
    "sys.path.append(str(Path.cwd().parent))\n",
    "\n",
    "import pandas as pd\n",
    "\n",
    "from desci_sense.parsers.base_parser import BaseParser\n",
    "from desci_sense.postprocessing.output_parsers import TagTypeParser"
   ]
  },
  {
   "cell_type": "code",
   "execution_count": 8,
   "metadata": {},
   "outputs": [],
   "source": [
    "TEST_TEXT = \"\"\"\n",
    "Reasoning Stps:\n",
    "1. The post contains a job alert for a postdoctoral fellow position.\n",
    "2. The position involves working on a grant and building a project for the future lab.\n",
    "3. The post includes contact information for interested candidates.\n",
    "\n",
    "Candidate Tags:\n",
    "\n",
    "1. <job>: This tag is the most suitable for the post, as it describes a job listing.\n",
    "\n",
    "Final Answer: <job>\n",
    "\"\"\""
   ]
  },
  {
   "cell_type": "code",
   "execution_count": 9,
   "metadata": {},
   "outputs": [
    {
     "ename": "AttributeError",
     "evalue": "'NoneType' object has no attribute 'group'",
     "output_type": "error",
     "traceback": [
      "\u001b[0;31m---------------------------------------------------------------------------\u001b[0m",
      "\u001b[0;31mAttributeError\u001b[0m                            Traceback (most recent call last)",
      "\u001b[1;32m/home/rkl25/dev/common_sense/desci-sense/notebooks/post_processing.ipynb Cell 4\u001b[0m line \u001b[0;36m2\n\u001b[1;32m      <a href='vscode-notebook-cell:/home/rkl25/dev/common_sense/desci-sense/notebooks/post_processing.ipynb#W6sZmlsZQ%3D%3D?line=0'>1</a>\u001b[0m tag_parser \u001b[39m=\u001b[39m TagTypeParser()\n\u001b[0;32m----> <a href='vscode-notebook-cell:/home/rkl25/dev/common_sense/desci-sense/notebooks/post_processing.ipynb#W6sZmlsZQ%3D%3D?line=1'>2</a>\u001b[0m tag_parser\u001b[39m.\u001b[39mparse(TEST_TEXT)\n",
      "File \u001b[0;32m~/dev/common_sense/desci-sense/desci_sense/postprocessing/output_parsers.py:25\u001b[0m, in \u001b[0;36mTagTypeParser.parse\u001b[0;34m(self, text)\u001b[0m\n\u001b[1;32m     22\u001b[0m \u001b[39m# Extract the content using regex\u001b[39;00m\n\u001b[1;32m     23\u001b[0m sections_match \u001b[39m=\u001b[39m sections_re\u001b[39m.\u001b[39msearch(text)\n\u001b[0;32m---> 25\u001b[0m reasoning_steps \u001b[39m=\u001b[39m sections_match\u001b[39m.\u001b[39mgroup(\u001b[39m1\u001b[39m)\u001b[39m.\u001b[39mstrip()\n\u001b[1;32m     26\u001b[0m candidate_tags \u001b[39m=\u001b[39m sections_match\u001b[39m.\u001b[39mgroup(\u001b[39m2\u001b[39m)\u001b[39m.\u001b[39mstrip()\n\u001b[1;32m     27\u001b[0m final_answer \u001b[39m=\u001b[39m sections_match\u001b[39m.\u001b[39mgroup(\u001b[39m3\u001b[39m)\u001b[39m.\u001b[39mstrip()\n",
      "\u001b[0;31mAttributeError\u001b[0m: 'NoneType' object has no attribute 'group'"
     ]
    }
   ],
   "source": [
    "tag_parser = TagTypeParser()\n",
    "tag_parser.parse(TEST_TEXT)"
   ]
  },
  {
   "cell_type": "code",
   "execution_count": 16,
   "metadata": {},
   "outputs": [
    {
     "name": "stdout",
     "output_type": "stream",
     "text": [
      "('[System error: failed to extract reasoning steps.]', 'text related to candidate tags', 'text related to final answer')\n"
     ]
    }
   ],
   "source": [
    "import re\n",
    "\n",
    "# Sample text containing the three sections\n",
    "text = \"\"\"\n",
    "Reasoning Step2s:\n",
    "text related to reasoning steps\n",
    "\n",
    "Candidate Tags:\n",
    "text related to candidate tags\n",
    "\n",
    "Final Answer:\n",
    "text related to final answer\n",
    "\"\"\"\n",
    "\n",
    "# Define the regular expressions for the three sections\n",
    "reasoning_steps_pattern = r\"Reasoning Steps:(.*?)Candidate Tags:\"\n",
    "candidate_tags_pattern = r\"Candidate Tags:(.*?)Final Answer:\"\n",
    "final_answer_pattern = r\"Final Answer:(.*)\"\n",
    "\n",
    "# Extract content using regular expressions with error handling\n",
    "try:\n",
    "    reasoning_steps = re.search(reasoning_steps_pattern, text, re.DOTALL).group(1).strip()\n",
    "except AttributeError:\n",
    "    reasoning_steps = \"[System error: failed to extract reasoning steps.]\"\n",
    "\n",
    "try:\n",
    "    candidate_tags = re.search(candidate_tags_pattern, text, re.DOTALL).group(1).strip()\n",
    "except AttributeError:\n",
    "    candidate_tags = \"[System error: failed to extract candidate tags.]\"\n",
    "\n",
    "try:\n",
    "    final_answer = re.search(final_answer_pattern, text, re.DOTALL).group(1).strip()\n",
    "except AttributeError:\n",
    "    final_answer = \"<error>\"\n",
    "\n",
    "# Create a tuple containing the extracted content\n",
    "extracted_content = (reasoning_steps, candidate_tags, final_answer)\n",
    "\n",
    "\n",
    "print(extracted_content)\n",
    "\n",
    "\n",
    "\n",
    "\n"
   ]
  },
  {
   "cell_type": "code",
   "execution_count": 14,
   "metadata": {},
   "outputs": [
    {
     "data": {
      "text/plain": [
       "(None, 'text related to candidate tags', 'text related to final answer')"
      ]
     },
     "execution_count": 14,
     "metadata": {},
     "output_type": "execute_result"
    }
   ],
   "source": [
    "extracted_content"
   ]
  }
 ],
 "metadata": {
  "kernelspec": {
   "display_name": "twscraping",
   "language": "python",
   "name": "python3"
  },
  "language_info": {
   "codemirror_mode": {
    "name": "ipython",
    "version": 3
   },
   "file_extension": ".py",
   "mimetype": "text/x-python",
   "name": "python",
   "nbconvert_exporter": "python",
   "pygments_lexer": "ipython3",
   "version": "3.11.5"
  }
 },
 "nbformat": 4,
 "nbformat_minor": 2
}
